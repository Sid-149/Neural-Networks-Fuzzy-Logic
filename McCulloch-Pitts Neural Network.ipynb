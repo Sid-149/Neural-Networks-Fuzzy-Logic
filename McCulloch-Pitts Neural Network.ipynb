{
 "cells": [
  {
   "cell_type": "markdown",
   "metadata": {},
   "source": [
    "# McCulloch-Pitts Neural Network "
   ]
  },
  {
   "cell_type": "code",
   "execution_count": 1,
   "metadata": {},
   "outputs": [],
   "source": [
    "#importing library\n",
    "import numpy as np"
   ]
  },
  {
   "cell_type": "markdown",
   "metadata": {},
   "source": [
    "## AND Operation using MP Neuron Model"
   ]
  },
  {
   "cell_type": "code",
   "execution_count": 2,
   "metadata": {},
   "outputs": [
    {
     "name": "stdout",
     "output_type": "stream",
     "text": [
      "Enter w1 weight value:1\n",
      "Enter w2 weight value:1\n",
      "Enter threshold value:2\n",
      "\n",
      "Target Output: [0, 0, 0, 1]\n",
      "Calculated Output: [0, 0, 0, 1]\n",
      "\n",
      "Correct Weight & Threshold Values\n"
     ]
    }
   ],
   "source": [
    "x1 = np.array([0,0,1,1])\n",
    "x2 = np.array([0,1,0,1])\n",
    "t = [0,0,0,1]\n",
    "\n",
    "w1 = int(input('Enter w1 weight value:'))\n",
    "w2 = int(input('Enter w2 weight value:'))\n",
    "T = int(input('Enter threshold value:'))\n",
    "\n",
    "yin = w1*x1 + w2*x2\n",
    "#print(yin)\n",
    "\n",
    "y = []\n",
    "for i in yin:\n",
    "    if i >= T:\n",
    "        y.append(1)\n",
    "    else: y.append(0)\n",
    "\n",
    "print('\\nTarget Output:',t)\n",
    "print('Calculated Output:',y)\n",
    "\n",
    "if np.array_equal(y,t):\n",
    "    print(\"\\nCorrect Weight & Threshold Values\")\n",
    "else:\n",
    "    print(\"\\nIncorrect Weight and/or Threshold Values, Rerun Code!\")"
   ]
  },
  {
   "cell_type": "markdown",
   "metadata": {},
   "source": [
    "## OR Operation using MP Neuron Model"
   ]
  },
  {
   "cell_type": "code",
   "execution_count": 3,
   "metadata": {},
   "outputs": [
    {
     "name": "stdout",
     "output_type": "stream",
     "text": [
      "Enter w1 weight value:1\n",
      "Enter w2 weight value:1\n",
      "Enter threshold value:1\n",
      "\n",
      "Target Output: [0, 1, 1, 1]\n",
      "Calculated Output: [0, 1, 1, 1]\n",
      "\n",
      "Correct Weight & Threshold Values\n"
     ]
    }
   ],
   "source": [
    "x1 = np.array([0,0,1,1])\n",
    "x2 = np.array([0,1,0,1])\n",
    "t = [0,1,1,1]\n",
    "\n",
    "w1 = int(input('Enter w1 weight value:'))\n",
    "w2 = int(input('Enter w2 weight value:'))\n",
    "T = int(input('Enter threshold value:'))\n",
    "\n",
    "yin = w1*x1 + w2*x2\n",
    "#print(yin)\n",
    "\n",
    "y = []\n",
    "for i in yin:\n",
    "    if i >= T:\n",
    "        y.append(1)\n",
    "    else: y.append(0)\n",
    "\n",
    "print('\\nTarget Output:',t)\n",
    "print('Calculated Output:',y)\n",
    "\n",
    "if np.array_equal(y,t):\n",
    "    print(\"\\nCorrect Weight & Threshold Values\")\n",
    "else:\n",
    "    print(\"\\nIncorrect Weight and/or Threshold Values, Rerun Code!\")"
   ]
  },
  {
   "cell_type": "markdown",
   "metadata": {},
   "source": [
    "## XOR Operation using MP Neuron Model"
   ]
  },
  {
   "cell_type": "code",
   "execution_count": 4,
   "metadata": {},
   "outputs": [
    {
     "name": "stdout",
     "output_type": "stream",
     "text": [
      "Enter w11 weight value:1\n",
      "Enter w21 weight value:-1\n",
      "Enter w12 weight value:-1\n",
      "Enter w22 weight value:1\n",
      "Enter v1 weight value:1\n",
      "Enter v2 weight value:1\n",
      "Enter T1 threshold value:1\n",
      "Enter T2 threshold value:1\n",
      "Enter T3 threshold value:1\n",
      "\n",
      "Target Output: [0, 1, 1, 0]\n",
      "Calculated Output: [0, 1, 1, 0]\n",
      "\n",
      "Correct Weight & Threshold Values\n"
     ]
    }
   ],
   "source": [
    "x1 = np.array([0,0,1,1])\n",
    "x2 = np.array([0,1,0,1])\n",
    "t = [0,1,1,0]\n",
    "\n",
    "w11 = float(input('Enter w11 weight value:'))\n",
    "w21 = float(input('Enter w21 weight value:'))\n",
    "w12 = float(input('Enter w12 weight value:'))\n",
    "w22 = float(input('Enter w22 weight value:'))\n",
    "\n",
    "v1 = float(input('Enter v1 weight value:'))\n",
    "v2 = float(input('Enter v2 weight value:'))\n",
    "\n",
    "T1 = float(input('Enter T1 threshold value:'))\n",
    "T2 = float(input('Enter T2 threshold value:'))\n",
    "T3 = float(input('Enter T3 threshold value:'))\n",
    "\n",
    "zin1 = w11*x1 + w21*x2\n",
    "#print(zin1)\n",
    "\n",
    "z1 = np.array([0,0,0,0])\n",
    "for i in range(len(zin1)):\n",
    "    if zin1[i] >= T1:\n",
    "        z1[i] = 1\n",
    "    else: z1[i] = 0\n",
    "        \n",
    "zin2 = w12*x1 + w22*x2\n",
    "#print(zin2)\n",
    "\n",
    "z2 = np.array([0,0,0,0])\n",
    "for i in range(len(zin2)):\n",
    "    if zin2[i] >= T2:\n",
    "        z2[i] = 1\n",
    "    else: z2[i] = 0\n",
    "\n",
    "yin = v1*z1 + v2*z2\n",
    "#print(yin)\n",
    "\n",
    "y = []\n",
    "for i in yin:\n",
    "    if i >= T3:\n",
    "        y.append(1)\n",
    "    else: y.append(0)\n",
    "\n",
    "print('\\nTarget Output:',t)\n",
    "print('Calculated Output:',y)\n",
    "\n",
    "if np.array_equal(y,t):\n",
    "    print(\"\\nCorrect Weight & Threshold Values\")\n",
    "else:\n",
    "    print(\"\\nIncorrect Weight and/or Threshold Values, Rerun Code!\")"
   ]
  },
  {
   "cell_type": "markdown",
   "metadata": {},
   "source": [
    "# ANDNOT Operation using MP Neuron Model "
   ]
  },
  {
   "cell_type": "code",
   "execution_count": 5,
   "metadata": {},
   "outputs": [
    {
     "name": "stdout",
     "output_type": "stream",
     "text": [
      "Enter w1 weight value:1\n",
      "Enter w2 weight value:-1\n",
      "Enter threshold value:1\n",
      "\n",
      "Target Output: [0, 0, 1, 0]\n",
      "Calculated Output: [0, 0, 1, 0]\n",
      "\n",
      "Correct Weight & Threshold Values\n"
     ]
    }
   ],
   "source": [
    "x1 = np.array([0,0,1,1])\n",
    "x2 = np.array([0,1,0,1])\n",
    "t = [0,0,1,0]\n",
    "\n",
    "w1 = int(input('Enter w1 weight value:'))\n",
    "w2 = int(input('Enter w2 weight value:'))\n",
    "T = int(input('Enter threshold value:'))\n",
    "\n",
    "yin = w1*x1 + w2*x2\n",
    "#print(yin)\n",
    "\n",
    "y = []\n",
    "for i in yin:\n",
    "    if i >= T:\n",
    "        y.append(1)\n",
    "    else: y.append(0)\n",
    "\n",
    "print('\\nTarget Output:',t)\n",
    "print('Calculated Output:',y)\n",
    "\n",
    "if np.array_equal(y,t):\n",
    "    print(\"\\nCorrect Weight & Threshold Values\")\n",
    "else:\n",
    "    print(\"\\nIncorrect Weight and/or Threshold Values, Rerun Code!\")"
   ]
  }
 ],
 "metadata": {
  "kernelspec": {
   "display_name": "Python 3",
   "language": "python",
   "name": "python3"
  },
  "language_info": {
   "codemirror_mode": {
    "name": "ipython",
    "version": 3
   },
   "file_extension": ".py",
   "mimetype": "text/x-python",
   "name": "python",
   "nbconvert_exporter": "python",
   "pygments_lexer": "ipython3",
   "version": "3.8.4"
  }
 },
 "nbformat": 4,
 "nbformat_minor": 4
}
