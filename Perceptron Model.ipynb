{
 "cells": [
  {
   "cell_type": "markdown",
   "metadata": {},
   "source": [
    "# Perceptron Model"
   ]
  },
  {
   "cell_type": "code",
   "execution_count": 1,
   "metadata": {},
   "outputs": [],
   "source": [
    "#importing library\n",
    "import numpy as np"
   ]
  },
  {
   "cell_type": "markdown",
   "metadata": {},
   "source": [
    "## Implemention of OR"
   ]
  },
  {
   "cell_type": "code",
   "execution_count": 2,
   "metadata": {},
   "outputs": [],
   "source": [
    "#assigning input values\n",
    "x1 = [1, 1, 0, 0] #Polar inputs\n",
    "x2 = [1, 0, 1, 0] #Polar inputs\n",
    "t = [1, 1, 1, -1] #Bipolar targets"
   ]
  },
  {
   "cell_type": "code",
   "execution_count": 3,
   "metadata": {},
   "outputs": [],
   "source": [
    "#initializing weight values\n",
    "w1 = 0\n",
    "w2 = 0\n",
    "b = 0\n",
    "T = 0\n",
    "alpha = 1"
   ]
  },
  {
   "cell_type": "code",
   "execution_count": 4,
   "metadata": {},
   "outputs": [
    {
     "name": "stdout",
     "output_type": "stream",
     "text": [
      "Network has converged\n"
     ]
    }
   ],
   "source": [
    "#algorithm of perceptron model\n",
    "c = 0\n",
    "yin = [0,0,0,0]\n",
    "y = [0,0,0,0]\n",
    "epoch = 0\n",
    "while(c == 0):\n",
    "    for i in range(4):\n",
    "        yin[i] = b+x1[i]*w1+x2[i]*w2\n",
    "        if yin[i] > 0:\n",
    "            y[i] = 1\n",
    "        elif yin[i] == 0:\n",
    "            y[i] = 0\n",
    "        else:\n",
    "            y[i] = -1\n",
    "    \n",
    "        if y[i] != t[i]:\n",
    "            w1 = w1+alpha*t[i]*x1[i]\n",
    "            w2 = w2+alpha*t[i]*x2[i]\n",
    "            b = b+alpha*t[i]\n",
    "    epoch = epoch+1\n",
    "#comparing y and t\n",
    "    if np.array_equal(t,y):\n",
    "        print(\"Network has converged\")\n",
    "        c = 1"
   ]
  },
  {
   "cell_type": "code",
   "execution_count": 5,
   "metadata": {},
   "outputs": [
    {
     "name": "stdout",
     "output_type": "stream",
     "text": [
      "FINAL WEIGHTS\n",
      "W1: 2\n",
      "W2: 2\n",
      "b: -1\n"
     ]
    }
   ],
   "source": [
    "#final weights\n",
    "print('FINAL WEIGHTS')\n",
    "print('W1:', w1)\n",
    "print('W2:', w2)\n",
    "print('b:', b)"
   ]
  },
  {
   "cell_type": "code",
   "execution_count": null,
   "metadata": {},
   "outputs": [],
   "source": []
  }
 ],
 "metadata": {
  "kernelspec": {
   "display_name": "Python 3",
   "language": "python",
   "name": "python3"
  },
  "language_info": {
   "codemirror_mode": {
    "name": "ipython",
    "version": 3
   },
   "file_extension": ".py",
   "mimetype": "text/x-python",
   "name": "python",
   "nbconvert_exporter": "python",
   "pygments_lexer": "ipython3",
   "version": "3.8.4"
  }
 },
 "nbformat": 4,
 "nbformat_minor": 4
}
